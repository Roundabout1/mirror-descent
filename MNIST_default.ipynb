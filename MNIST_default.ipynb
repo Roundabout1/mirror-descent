{
  "cells": [
    {
      "cell_type": "code",
      "execution_count": null,
      "metadata": {
        "colab": {
          "base_uri": "https://localhost:8080/"
        },
        "id": "FSmX4MaS5Yoq",
        "outputId": "12bf8e6b-a4e8-4d5b-e6ed-db920ad2c5fd"
      },
      "outputs": [],
      "source": [
        "import torch\n",
        "import torch.nn as nn\n",
        "import torch.optim as optim\n",
        "from torchvision import datasets, transforms"
      ]
    },
    {
      "cell_type": "code",
      "execution_count": null,
      "metadata": {
        "id": "up2xcoYsSEZQ"
      },
      "outputs": [],
      "source": [
        "import random\n",
        "import numpy as np\n",
        "\n",
        "# Разбиение обучающих данных\n",
        "# labels_num -  количество меток (от 0 до 9)\n",
        "# train_len - длина того обучающего множества, которое мы хотим использовать для обучения, оно должно делиться на количество меток\n",
        "def balancing(full_train_dataset, lables_num, train_len):\n",
        "  # Длина всего обучающего множества и того обучающего множества, которое мы хотим использовать для обучения\n",
        "  full_train_len = len(full_train_dataset)\n",
        "  # Количество данных с одной меткой\n",
        "  label_group_num = int(train_len/lables_num)\n",
        "\n",
        "  # Создаём группы для хранения индексов каждой метки в обучающем наборе данных\n",
        "  label_groups_index = [[] for _ in range(lables_num)]\n",
        "  for i in range(full_train_len):\n",
        "    label = full_train_dataset[i][1]\n",
        "    label_groups_index[label].append(i)\n",
        "\n",
        "  # Обрезаем группы, оставляя случайные, неповторяющиеся элементы в каждой и объединяем их всех в один набор индексов\n",
        "  all_index = np.array([], dtype=int)\n",
        "  for i in range(lables_num):\n",
        "    all_index = np.append(all_index, random.sample(label_groups_index[i], label_group_num))\n",
        "  np.random.shuffle(all_index)\n",
        "\n",
        "  # Формируем обучающий набор данных\n",
        "  train_dataset = torch.utils.data.Subset(full_train_dataset, all_index)\n",
        "  return train_dataset"
      ]
    },
    {
      "cell_type": "code",
      "execution_count": null,
      "metadata": {},
      "outputs": [],
      "source": [
        "# Определение модели\n",
        "# neurons_num - количество нейронов в каждом слое\n",
        "# img_size - размер изображений из MNIST\n",
        "class Net(nn.Module):\n",
        "    def __init__(self, neurons_num, img_size):\n",
        "        super(Net, self).__init__()\n",
        "        self.img_size = img_size\n",
        "        self.fc1 = nn.Linear(img_size, neurons_num)\n",
        "        self.fc2 = nn.Linear(neurons_num, neurons_num)\n",
        "        self.fc3 = nn.Linear(neurons_num, neurons_num)\n",
        "        self.fc4 = nn.Linear(neurons_num, neurons_num)\n",
        "        self.fc5 = nn.Linear(neurons_num, neurons_num)\n",
        "        self.fc6 = nn.Linear(neurons_num, 10)\n",
        "\n",
        "    def forward(self, x):\n",
        "        x = x.view(-1, self.img_size)\n",
        "        x = nn.functional.relu(self.fc1(x))\n",
        "        x = nn.functional.relu(self.fc2(x))\n",
        "        x = nn.functional.relu(self.fc3(x))\n",
        "        x = nn.functional.relu(self.fc4(x))\n",
        "        x = nn.functional.relu(self.fc5(x))\n",
        "        x = self.fc6(x)\n",
        "        return x"
      ]
    },
    {
      "cell_type": "code",
      "execution_count": null,
      "metadata": {},
      "outputs": [],
      "source": [
        "import time\n",
        "# Обучение модели\n",
        "def train(model, train_dataset, test_dataset, batch_size, learning_rate, epochs):\n",
        "    optimizer = optim.SGD(model.parameters(), lr=learning_rate)\n",
        "    # Инициализация загрузчиков данных\n",
        "    train_loader = torch.utils.data.DataLoader(dataset=train_dataset, batch_size=batch_size, shuffle=True)\n",
        "    test_loader = torch.utils.data.DataLoader(dataset=test_dataset, batch_size=batch_size, shuffle=False)\n",
        "\n",
        "    loss_array = []\n",
        "    accuracy_array = []\n",
        "\n",
        "    startTime = time.time()\n",
        "    # Обучение модели\n",
        "    for epoch in range(epochs):\n",
        "        for i, (images, labels) in enumerate(train_loader):\n",
        "            optimizer.zero_grad()\n",
        "            outputs = model(images)\n",
        "            loss = nn.functional.cross_entropy(outputs, labels)\n",
        "            loss.backward()\n",
        "            optimizer.step()\n",
        "\n",
        "        # Проверка точности модели на тестовом наборе данных\n",
        "        correct = 0\n",
        "        total = 0\n",
        "        with torch.no_grad():\n",
        "            for images, labels in test_loader:\n",
        "                outputs = model(images)\n",
        "                _, predicted = torch.max(outputs.data, 1)\n",
        "                total += labels.size(0)\n",
        "                correct += (predicted == labels).sum().item()\n",
        "\n",
        "        accuracy = 100 * correct / total\n",
        "        loss_array.append(loss.item())\n",
        "        accuracy_array.append(accuracy)\n",
        "        print('{:.2f} Epoch [{}/{}], Loss: {:.6f}, Accuracy: {:.2f}%'.format(time.time() - startTime, epoch+1, epochs, loss.item(), accuracy))"
      ]
    },
    {
      "cell_type": "code",
      "execution_count": null,
      "metadata": {},
      "outputs": [],
      "source": [
        "# Загрузка данных MNIST\n",
        "train_dataset = datasets.MNIST(root='./data', train=True, transform=transforms.ToTensor(), download=True)\n",
        "test_dataset = datasets.MNIST(root='./data', train=False, transform=transforms.ToTensor(), download=True)"
      ]
    },
    {
      "cell_type": "code",
      "execution_count": null,
      "metadata": {
        "colab": {
          "base_uri": "https://localhost:8080/",
          "height": 1000
        },
        "id": "ddE4F3vsubNY",
        "outputId": "5eb6f59f-72c9-4e42-bda5-8560ddf749c4"
      },
      "outputs": [],
      "source": [
        "train_dataset = balancing(train_dataset, 10, 30000)"
      ]
    },
    {
      "cell_type": "code",
      "execution_count": null,
      "metadata": {},
      "outputs": [],
      "source": [
        "# Инициализация модели\n",
        "model = Net(1000, 28*28)\n",
        "train(model, train_dataset, test_dataset, 64, 0.1, 5)"
      ]
    },
    {
      "cell_type": "code",
      "execution_count": null,
      "metadata": {
        "colab": {
          "base_uri": "https://localhost:8080/"
        },
        "id": "Vx1w09TZPXOY",
        "outputId": "c32767db-d29a-4295-a984-d17f5d3cdb84"
      },
      "outputs": [],
      "source": [
        "for epoch in range(epochs):\n",
        "  print('Epoch [{}/{}], Loss: {:.4f}, Accuracy: {:.2f}%'.format(epoch+1, epochs, loss_array[epoch], accuracy_array[epoch]))"
      ]
    }
  ],
  "metadata": {
    "colab": {
      "provenance": []
    },
    "kernelspec": {
      "display_name": "Python 3",
      "name": "python3"
    },
    "language_info": {
      "name": "python"
    }
  },
  "nbformat": 4,
  "nbformat_minor": 0
}
