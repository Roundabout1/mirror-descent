{
  "cells": [
    {
      "cell_type": "code",
      "execution_count": 22,
      "metadata": {
        "colab": {
          "base_uri": "https://localhost:8080/"
        },
        "id": "FSmX4MaS5Yoq",
        "outputId": "12bf8e6b-a4e8-4d5b-e6ed-db920ad2c5fd"
      },
      "outputs": [],
      "source": [
        "import torch\n",
        "import torch.nn as nn\n",
        "import torch.optim as optim\n",
        "from torch.utils.data import DataLoader\n",
        "from torchvision import datasets, transforms"
      ]
    },
    {
      "cell_type": "code",
      "execution_count": 17,
      "metadata": {},
      "outputs": [
        {
          "name": "stdout",
          "output_type": "stream",
          "text": [
            "Using cuda device\n"
          ]
        }
      ],
      "source": [
        "device = (\n",
        "    \"cuda\"\n",
        "    if torch.cuda.is_available()\n",
        "    else \"mps\"\n",
        "    if torch.backends.mps.is_available()\n",
        "    else \"cpu\"\n",
        ")\n",
        "print(f\"Using {device} device\")"
      ]
    },
    {
      "cell_type": "code",
      "execution_count": 18,
      "metadata": {
        "id": "up2xcoYsSEZQ"
      },
      "outputs": [],
      "source": [
        "import random\n",
        "import numpy as np\n",
        "\n",
        "# Разбиение обучающих данных\n",
        "# labels_num -  количество меток (от 0 до 9)\n",
        "# train_len - длина того обучающего множества, которое мы хотим использовать для обучения, оно должно делиться на количество меток\n",
        "def balancing(full_train_dataset, lables_num, train_len):\n",
        "  # Длина всего обучающего множества и того обучающего множества, которое мы хотим использовать для обучения\n",
        "  full_train_len = len(full_train_dataset)\n",
        "  # Количество данных с одной меткой\n",
        "  label_group_num = int(train_len/lables_num)\n",
        "\n",
        "  # Создаём группы для хранения индексов каждой метки в обучающем наборе данных\n",
        "  label_groups_index = [[] for _ in range(lables_num)]\n",
        "  for i in range(full_train_len):\n",
        "    label = full_train_dataset[i][1]\n",
        "    label_groups_index[label].append(i)\n",
        "\n",
        "  # Обрезаем группы, оставляя случайные, неповторяющиеся элементы в каждой и объединяем их всех в один набор индексов\n",
        "  all_index = np.array([], dtype=int)\n",
        "  for i in range(lables_num):\n",
        "    all_index = np.append(all_index, random.sample(label_groups_index[i], label_group_num))\n",
        "  np.random.shuffle(all_index)\n",
        "\n",
        "  # Формируем обучающий набор данных\n",
        "  train_dataset = torch.utils.data.Subset(full_train_dataset, all_index)\n",
        "  return train_dataset"
      ]
    },
    {
      "cell_type": "code",
      "execution_count": 19,
      "metadata": {},
      "outputs": [],
      "source": [
        "# Определение модели\n",
        "# neurons_num - количество нейронов в каждом слое\n",
        "# img_size - размер изображений из MNIST\n",
        "class Net(nn.Module):\n",
        "    def __init__(self, neurons_num, img_size):\n",
        "        super(Net, self).__init__()\n",
        "        self.img_size = img_size\n",
        "        self.fc1 = nn.Linear(img_size, neurons_num)\n",
        "        self.fc2 = nn.Linear(neurons_num, neurons_num)\n",
        "        self.fc3 = nn.Linear(neurons_num, neurons_num)\n",
        "        self.fc4 = nn.Linear(neurons_num, neurons_num)\n",
        "        self.fc5 = nn.Linear(neurons_num, neurons_num)\n",
        "        self.fc6 = nn.Linear(neurons_num, 10)\n",
        "\n",
        "    def forward(self, x):\n",
        "        x = x.view(-1, self.img_size)\n",
        "        x = nn.functional.relu(self.fc1(x))\n",
        "        x = nn.functional.relu(self.fc2(x))\n",
        "        x = nn.functional.relu(self.fc3(x))\n",
        "        x = nn.functional.relu(self.fc4(x))\n",
        "        x = nn.functional.relu(self.fc5(x))\n",
        "        x = self.fc6(x)\n",
        "        return x"
      ]
    },
    {
      "cell_type": "code",
      "execution_count": 20,
      "metadata": {},
      "outputs": [],
      "source": [
        "def train(dataloader, model, loss_fn, optimizer):\n",
        "    size = len(dataloader.dataset)\n",
        "    model.train()\n",
        "    for batch, (X, y) in enumerate(dataloader):\n",
        "        X, y = X.to(device), y.to(device)\n",
        "\n",
        "        # Compute prediction error\n",
        "        pred = model(X)\n",
        "        loss = loss_fn(pred, y)\n",
        "\n",
        "        # Backpropagation\n",
        "        loss.backward()\n",
        "        optimizer.step()\n",
        "        optimizer.zero_grad()\n",
        "\n",
        "        # вывод текущего прогресса, для того, чтобы убедиться, что обучение идёт\n",
        "        if batch % 100 == 0:\n",
        "            loss, current = loss.item(), (batch + 1) * len(X)\n",
        "            print(f\"loss: {loss:>7f}  [{current:>5d}/{size:>5d}]\")"
      ]
    },
    {
      "cell_type": "code",
      "execution_count": 21,
      "metadata": {},
      "outputs": [],
      "source": [
        "def test(dataloader, model, loss_fn):\n",
        "    size = len(dataloader.dataset)\n",
        "    num_batches = len(dataloader)\n",
        "    model.eval()\n",
        "    test_loss, correct = 0, 0\n",
        "    with torch.no_grad():\n",
        "        for X, y in dataloader:\n",
        "            X, y = X.to(device), y.to(device)\n",
        "            pred = model(X)\n",
        "            test_loss += loss_fn(pred, y).item()\n",
        "            correct += (pred.argmax(1) == y).type(torch.float).sum().item()\n",
        "    test_loss /= num_batches\n",
        "    correct /= size\n",
        "    print(f\"Test Error: \\n Accuracy: {(100*correct):>0.1f}%, Avg loss: {test_loss:>8f} \\n\")"
      ]
    },
    {
      "cell_type": "code",
      "execution_count": 6,
      "metadata": {},
      "outputs": [
        {
          "name": "stdout",
          "output_type": "stream",
          "text": [
            "Downloading http://yann.lecun.com/exdb/mnist/train-images-idx3-ubyte.gz\n",
            "Downloading http://yann.lecun.com/exdb/mnist/train-images-idx3-ubyte.gz to ./data\\MNIST\\raw\\train-images-idx3-ubyte.gz\n"
          ]
        },
        {
          "name": "stderr",
          "output_type": "stream",
          "text": [
            "100%|██████████| 9912422/9912422 [00:00<00:00, 13201693.74it/s]\n"
          ]
        },
        {
          "name": "stdout",
          "output_type": "stream",
          "text": [
            "Extracting ./data\\MNIST\\raw\\train-images-idx3-ubyte.gz to ./data\\MNIST\\raw\n",
            "\n",
            "Downloading http://yann.lecun.com/exdb/mnist/train-labels-idx1-ubyte.gz\n",
            "Downloading http://yann.lecun.com/exdb/mnist/train-labels-idx1-ubyte.gz to ./data\\MNIST\\raw\\train-labels-idx1-ubyte.gz\n"
          ]
        },
        {
          "name": "stderr",
          "output_type": "stream",
          "text": [
            "100%|██████████| 28881/28881 [00:00<00:00, 28869326.46it/s]\n"
          ]
        },
        {
          "name": "stdout",
          "output_type": "stream",
          "text": [
            "Extracting ./data\\MNIST\\raw\\train-labels-idx1-ubyte.gz to ./data\\MNIST\\raw\n",
            "\n",
            "Downloading http://yann.lecun.com/exdb/mnist/t10k-images-idx3-ubyte.gz\n",
            "Downloading http://yann.lecun.com/exdb/mnist/t10k-images-idx3-ubyte.gz to ./data\\MNIST\\raw\\t10k-images-idx3-ubyte.gz\n"
          ]
        },
        {
          "name": "stderr",
          "output_type": "stream",
          "text": [
            "100%|██████████| 1648877/1648877 [00:00<00:00, 5847099.99it/s]\n"
          ]
        },
        {
          "name": "stdout",
          "output_type": "stream",
          "text": [
            "Extracting ./data\\MNIST\\raw\\t10k-images-idx3-ubyte.gz to ./data\\MNIST\\raw\n",
            "\n",
            "Downloading http://yann.lecun.com/exdb/mnist/t10k-labels-idx1-ubyte.gz\n",
            "Downloading http://yann.lecun.com/exdb/mnist/t10k-labels-idx1-ubyte.gz to ./data\\MNIST\\raw\\t10k-labels-idx1-ubyte.gz\n"
          ]
        },
        {
          "name": "stderr",
          "output_type": "stream",
          "text": [
            "100%|██████████| 4542/4542 [00:00<?, ?it/s]"
          ]
        },
        {
          "name": "stdout",
          "output_type": "stream",
          "text": [
            "Extracting ./data\\MNIST\\raw\\t10k-labels-idx1-ubyte.gz to ./data\\MNIST\\raw\n",
            "\n"
          ]
        },
        {
          "name": "stderr",
          "output_type": "stream",
          "text": [
            "\n"
          ]
        }
      ],
      "source": [
        "# Загрузка данных MNIST\n",
        "train_dataset = datasets.MNIST(root='./data', train=True, transform=transforms.ToTensor(), download=True)\n",
        "test_dataset = datasets.MNIST(root='./data', train=False, transform=transforms.ToTensor(), download=True)"
      ]
    },
    {
      "cell_type": "code",
      "execution_count": 7,
      "metadata": {
        "colab": {
          "base_uri": "https://localhost:8080/",
          "height": 1000
        },
        "id": "ddE4F3vsubNY",
        "outputId": "5eb6f59f-72c9-4e42-bda5-8560ddf749c4"
      },
      "outputs": [],
      "source": [
        "train_dataset = balancing(train_dataset, 10, 30000)"
      ]
    },
    {
      "cell_type": "code",
      "execution_count": 23,
      "metadata": {},
      "outputs": [
        {
          "name": "stdout",
          "output_type": "stream",
          "text": [
            "Shape of X [N, C, H, W]: torch.Size([64, 1, 28, 28])\n",
            "Shape of y: torch.Size([64]) torch.int64\n"
          ]
        }
      ],
      "source": [
        "batch_size = 64\n",
        "\n",
        "# Create data loaders.\n",
        "train_dataloader = DataLoader(train_dataset, batch_size=batch_size)\n",
        "test_dataloader = DataLoader(test_dataset, batch_size=batch_size)\n",
        "\n",
        "for X, y in test_dataloader:\n",
        "    print(f\"Shape of X [N, C, H, W]: {X.shape}\")\n",
        "    print(f\"Shape of y: {y.shape} {y.dtype}\")\n",
        "    break"
      ]
    },
    {
      "cell_type": "code",
      "execution_count": 31,
      "metadata": {},
      "outputs": [],
      "source": [
        "# Инициализация модели \n",
        "model = Net(1000, 28*28).to(device)\n",
        "loss_fn = nn.CrossEntropyLoss()\n",
        "optimizer = torch.optim.SGD(model.parameters(), lr=0.1)"
      ]
    },
    {
      "cell_type": "code",
      "execution_count": 32,
      "metadata": {},
      "outputs": [
        {
          "name": "stdout",
          "output_type": "stream",
          "text": [
            "Epoch 1\n",
            "-------------------------------\n",
            "loss: 2.302168  [   64/30000]\n",
            "loss: 2.292595  [ 6464/30000]\n",
            "loss: 2.255351  [12864/30000]\n",
            "loss: 1.079496  [19264/30000]\n",
            "loss: 1.094166  [25664/30000]\n",
            "Test Error: \n",
            " Accuracy: 84.5%, Avg loss: 0.511084 \n",
            "\n",
            "Test Error: \n",
            " Accuracy: 85.0%, Avg loss: 0.491694 \n",
            "\n",
            "Epoch 2\n",
            "-------------------------------\n",
            "loss: 0.719588  [   64/30000]\n",
            "loss: 0.566483  [ 6464/30000]\n",
            "loss: 0.459434  [12864/30000]\n",
            "loss: 0.216495  [19264/30000]\n",
            "loss: 0.355677  [25664/30000]\n",
            "Test Error: \n",
            " Accuracy: 94.9%, Avg loss: 0.167971 \n",
            "\n",
            "Test Error: \n",
            " Accuracy: 94.5%, Avg loss: 0.180327 \n",
            "\n",
            "Epoch 3\n",
            "-------------------------------\n",
            "loss: 0.289856  [   64/30000]\n",
            "loss: 0.301145  [ 6464/30000]\n",
            "loss: 0.276715  [12864/30000]\n",
            "loss: 0.051749  [19264/30000]\n",
            "loss: 0.143000  [25664/30000]\n",
            "Test Error: \n",
            " Accuracy: 97.0%, Avg loss: 0.100583 \n",
            "\n",
            "Test Error: \n",
            " Accuracy: 95.9%, Avg loss: 0.135033 \n",
            "\n",
            "Epoch 4\n",
            "-------------------------------\n",
            "loss: 0.152150  [   64/30000]\n",
            "loss: 0.226655  [ 6464/30000]\n",
            "loss: 0.189525  [12864/30000]\n",
            "loss: 0.029935  [19264/30000]\n",
            "loss: 0.095719  [25664/30000]\n",
            "Test Error: \n",
            " Accuracy: 98.0%, Avg loss: 0.067317 \n",
            "\n",
            "Test Error: \n",
            " Accuracy: 96.3%, Avg loss: 0.121882 \n",
            "\n",
            "Epoch 5\n",
            "-------------------------------\n",
            "loss: 0.082663  [   64/30000]\n",
            "loss: 0.176938  [ 6464/30000]\n",
            "loss: 0.097536  [12864/30000]\n",
            "loss: 0.022868  [19264/30000]\n",
            "loss: 0.033266  [25664/30000]\n",
            "Test Error: \n",
            " Accuracy: 98.8%, Avg loss: 0.040474 \n",
            "\n",
            "Test Error: \n",
            " Accuracy: 97.0%, Avg loss: 0.107877 \n",
            "\n",
            "Done!\n"
          ]
        }
      ],
      "source": [
        "epochs = 5\n",
        "for t in range(epochs):\n",
        "    print(f\"Epoch {t+1}\\n-------------------------------\")\n",
        "    train(train_dataloader, model, loss_fn, optimizer)\n",
        "    test(train_dataloader, model, loss_fn)\n",
        "    test(test_dataloader, model, loss_fn)\n",
        "print(\"Done!\")"
      ]
    }
  ],
  "metadata": {
    "colab": {
      "provenance": []
    },
    "kernelspec": {
      "display_name": "Python 3",
      "name": "python3"
    },
    "language_info": {
      "codemirror_mode": {
        "name": "ipython",
        "version": 3
      },
      "file_extension": ".py",
      "mimetype": "text/x-python",
      "name": "python",
      "nbconvert_exporter": "python",
      "pygments_lexer": "ipython3",
      "version": "3.11.5"
    }
  },
  "nbformat": 4,
  "nbformat_minor": 0
}
