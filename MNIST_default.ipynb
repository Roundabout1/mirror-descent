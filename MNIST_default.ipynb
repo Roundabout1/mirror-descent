{
  "cells": [
    {
      "cell_type": "code",
      "execution_count": 47,
      "metadata": {
        "colab": {
          "base_uri": "https://localhost:8080/"
        },
        "id": "FSmX4MaS5Yoq",
        "outputId": "12bf8e6b-a4e8-4d5b-e6ed-db920ad2c5fd"
      },
      "outputs": [],
      "source": [
        "import torch\n",
        "import torch.nn as nn\n",
        "import torch.optim as optim\n",
        "from torch.utils.data import DataLoader\n",
        "from torchvision import datasets, transforms\n",
        "OUTPUT_ROOT = \"output\""
      ]
    },
    {
      "cell_type": "code",
      "execution_count": 48,
      "metadata": {},
      "outputs": [
        {
          "name": "stdout",
          "output_type": "stream",
          "text": [
            "Using cuda device\n"
          ]
        }
      ],
      "source": [
        "device = (\n",
        "    \"cuda\"\n",
        "    if torch.cuda.is_available()\n",
        "    else \"mps\"\n",
        "    if torch.backends.mps.is_available()\n",
        "    else \"cpu\"\n",
        ")\n",
        "print(f\"Using {device} device\")"
      ]
    },
    {
      "cell_type": "code",
      "execution_count": 49,
      "metadata": {
        "id": "up2xcoYsSEZQ"
      },
      "outputs": [],
      "source": [
        "import random\n",
        "import numpy as np\n",
        "\n",
        "# Разбиение обучающих данных\n",
        "# labels_num -  количество меток (от 0 до 9)\n",
        "# train_len - длина того обучающего множества, которое мы хотим использовать для обучения, оно должно делиться на количество меток\n",
        "def balancing(full_train_dataset, lables_num, train_len):\n",
        "  # Длина всего обучающего множества и того обучающего множества, которое мы хотим использовать для обучения\n",
        "  full_train_len = len(full_train_dataset)\n",
        "  # Количество данных с одной меткой\n",
        "  label_group_num = int(train_len/lables_num)\n",
        "\n",
        "  # Создаём группы для хранения индексов каждой метки в обучающем наборе данных\n",
        "  label_groups_index = [[] for _ in range(lables_num)]\n",
        "  for i in range(full_train_len):\n",
        "    label = full_train_dataset[i][1]\n",
        "    label_groups_index[label].append(i)\n",
        "\n",
        "  # Обрезаем группы, оставляя случайные, неповторяющиеся элементы в каждой и объединяем их всех в один набор индексов\n",
        "  all_index = np.array([], dtype=int)\n",
        "  for i in range(lables_num):\n",
        "    all_index = np.append(all_index, random.sample(label_groups_index[i], label_group_num))\n",
        "  np.random.shuffle(all_index)\n",
        "\n",
        "  # Формируем обучающий набор данных\n",
        "  train_dataset = torch.utils.data.Subset(full_train_dataset, all_index)\n",
        "  return train_dataset"
      ]
    },
    {
      "cell_type": "code",
      "execution_count": 57,
      "metadata": {},
      "outputs": [],
      "source": [
        "# Определение модели\n",
        "# neurons_num - количество нейронов в каждом слое\n",
        "# img_size - размер изображений из MNIST\n",
        "class Net4(nn.Module):\n",
        "    def __init__(self, neurons_num, img_size):\n",
        "        super(Net4, self).__init__()\n",
        "        self.neurons_num = neurons_num\n",
        "        self.img_size = img_size\n",
        "        self.fc1 = nn.Linear(img_size, neurons_num)\n",
        "        self.fc2 = nn.Linear(neurons_num, neurons_num)\n",
        "        self.fc3 = nn.Linear(neurons_num, neurons_num)\n",
        "        self.fc4 = nn.Linear(neurons_num, 10)\n",
        "\n",
        "    def forward(self, x):\n",
        "        x = x.view(-1, self.img_size)\n",
        "        x = nn.functional.relu(self.fc1(x))\n",
        "        x = nn.functional.relu(self.fc2(x))\n",
        "        x = nn.functional.relu(self.fc3(x))\n",
        "        x = self.fc4(x)\n",
        "        return x\n",
        "    def info(self):\n",
        "        layers = 'layers: 4\\n'\n",
        "        neurons = f'neurons_num: {self.neurons_num}\\n'\n",
        "        img = f'img_size: {self.img_size}\\n'\n",
        "        active_fun = 'activation function: relu\\n'\n",
        "        return layers + neurons + img + active_fun"
      ]
    },
    {
      "cell_type": "code",
      "execution_count": 56,
      "metadata": {},
      "outputs": [],
      "source": [
        "# Определение модели\n",
        "# neurons_num - количество нейронов в каждом слое\n",
        "# img_size - размер изображений из MNIST\n",
        "class Net6(nn.Module):\n",
        "    def __init__(self, neurons_num, img_size):\n",
        "        super(Net6, self).__init__()\n",
        "        self.neurons_num = neurons_num\n",
        "        self.img_size = img_size\n",
        "        self.fc1 = nn.Linear(img_size, neurons_num)\n",
        "        self.fc2 = nn.Linear(neurons_num, neurons_num)\n",
        "        self.fc3 = nn.Linear(neurons_num, neurons_num)\n",
        "        self.fc4 = nn.Linear(neurons_num, neurons_num)\n",
        "        self.fc5 = nn.Linear(neurons_num, neurons_num)\n",
        "        self.fc6 = nn.Linear(neurons_num, 10)\n",
        "\n",
        "    def forward(self, x):\n",
        "        x = x.view(-1, self.img_size)\n",
        "        x = nn.functional.relu(self.fc1(x))\n",
        "        x = nn.functional.relu(self.fc2(x))\n",
        "        x = nn.functional.relu(self.fc3(x))\n",
        "        x = nn.functional.relu(self.fc4(x))\n",
        "        x = nn.functional.relu(self.fc5(x))\n",
        "        x = self.fc6(x)\n",
        "        return x\n",
        "    def info(self):\n",
        "        layers = 'layers: 6\\n'\n",
        "        neurons = f'neurons_num: {self.neurons_num}\\n'\n",
        "        img = f'img_size: {self.img_size}\\n'\n",
        "        active_fun = 'activation function: relu\\n'\n",
        "        return layers + neurons + img + active_fun"
      ]
    },
    {
      "cell_type": "code",
      "execution_count": 51,
      "metadata": {},
      "outputs": [],
      "source": [
        "# обучение в течение одной эпохи\n",
        "def train_step(dataloader, model, loss_fn, optimizer, show_progress=False):\n",
        "    size = len(dataloader.dataset)\n",
        "    model.train()\n",
        "    for batch, (X, y) in enumerate(dataloader):\n",
        "        X, y = X.to(device), y.to(device)\n",
        "\n",
        "        # Ошибка предсказания\n",
        "        pred = model(X)\n",
        "        loss = loss_fn(pred, y)\n",
        "\n",
        "        # Backpropagation\n",
        "        loss.backward()\n",
        "        optimizer.step()\n",
        "        optimizer.zero_grad()\n",
        "\n",
        "        # вывод текущего прогресса, для того, чтобы убедиться, что обучение идёт\n",
        "        if show_progress and batch % 100 == 0:\n",
        "            loss, current = loss.item(), (batch + 1) * len(X)\n",
        "            print(f\"loss: {loss:>7f}  [{current:>5d}/{size:>5d}]\")"
      ]
    },
    {
      "cell_type": "code",
      "execution_count": 52,
      "metadata": {},
      "outputs": [],
      "source": [
        "def test(dataloader, model, loss_fn):\n",
        "    size = len(dataloader.dataset)\n",
        "    num_batches = len(dataloader)\n",
        "    model.eval()\n",
        "    test_loss, correct = 0, 0\n",
        "    with torch.no_grad():\n",
        "        for X, y in dataloader:\n",
        "            X, y = X.to(device), y.to(device)\n",
        "            pred = model(X)\n",
        "            test_loss += loss_fn(pred, y).item()\n",
        "            correct += (pred.argmax(1) == y).type(torch.float).sum().item()\n",
        "    test_loss /= num_batches\n",
        "    correct /= size\n",
        "    return 100*correct, test_loss"
      ]
    },
    {
      "cell_type": "code",
      "execution_count": 53,
      "metadata": {},
      "outputs": [],
      "source": [
        "# обучение модели и получение результатов обучения на тестовой и обучающих выборках\n",
        "def train(model, epochs, train_dataloader, test_dataloader, optimizer, loss_fn):\n",
        "    train_results = []\n",
        "    test_results = []\n",
        "    for t in range(epochs):\n",
        "        print(f\"Epoch {t+1}\\n-------------------------------\")\n",
        "        train_step(train_dataloader, model, loss_fn, optimizer)\n",
        "        train_accuracy, train_loss = test(train_dataloader, model, loss_fn)\n",
        "        train_results.append((train_accuracy, train_loss))\n",
        "        test_accuracy, test_loss = test(test_dataloader, model, loss_fn)\n",
        "        test_results.append((test_accuracy, test_loss))\n",
        "    print(\"Done!\")\n",
        "    return train_results, test_results"
      ]
    },
    {
      "cell_type": "code",
      "execution_count": 23,
      "metadata": {},
      "outputs": [],
      "source": [
        "# Загрузка данных MNIST\n",
        "train_dataset = datasets.MNIST(root='./data', train=True, transform=transforms.ToTensor(), download=True)\n",
        "test_dataset = datasets.MNIST(root='./data', train=False, transform=transforms.ToTensor(), download=True)"
      ]
    },
    {
      "cell_type": "code",
      "execution_count": 72,
      "metadata": {
        "colab": {
          "base_uri": "https://localhost:8080/",
          "height": 1000
        },
        "id": "ddE4F3vsubNY",
        "outputId": "5eb6f59f-72c9-4e42-bda5-8560ddf749c4"
      },
      "outputs": [],
      "source": [
        "train_num = 500\n",
        "train_dataset = balancing(train_dataset, 10, train_num)"
      ]
    },
    {
      "cell_type": "code",
      "execution_count": 73,
      "metadata": {},
      "outputs": [
        {
          "name": "stdout",
          "output_type": "stream",
          "text": [
            "Shape of X [N, C, H, W]: torch.Size([128, 1, 28, 28])\n",
            "Shape of y: torch.Size([128]) torch.int64\n"
          ]
        }
      ],
      "source": [
        "batch_size = 128\n",
        "\n",
        "train_dataloader = DataLoader(train_dataset, batch_size=batch_size, shuffle=True)\n",
        "test_dataloader = DataLoader(test_dataset, batch_size=batch_size, shuffle=True)\n",
        "\n",
        "for X, y in test_dataloader:\n",
        "    print(f\"Shape of X [N, C, H, W]: {X.shape}\")\n",
        "    print(f\"Shape of y: {y.shape} {y.dtype}\")\n",
        "    break"
      ]
    },
    {
      "cell_type": "code",
      "execution_count": null,
      "metadata": {},
      "outputs": [],
      "source": [
        "import os\n",
        "import numpy as np\n",
        "import time\n",
        "epochs = 20*(60000//train_num)\n",
        "learning_rate = 0.1\n",
        "# Инициализация модели \n",
        "model = Net4(800, 28*28).to(device)\n",
        "loss_fn = nn.CrossEntropyLoss()\n",
        "optimizer = torch.optim.SGD(model.parameters(), lr=learning_rate)\n",
        "train_results, test_results = train(\n",
        "      model=model, \n",
        "      epochs=epochs, \n",
        "      test_dataloader=test_dataloader, \n",
        "      train_dataloader=train_dataloader, \n",
        "      optimizer=optimizer, \n",
        "      loss_fn=loss_fn\n",
        "      )\n",
        "\n",
        "# генерация уникального имени\n",
        "cur_time = (str(time.time())).replace('.', '_')\n",
        "folder_path_base = os.path.join(OUTPUT_ROOT, 'treck_' + cur_time)\n",
        "# проверка на то, что это имя не существует\n",
        "cnt = 0 \n",
        "folder_path = folder_path_base\n",
        "while os.path.isdir(folder_path):\n",
        "      folder_path = folder_path_base + '_' + str(cnt) \n",
        "      cnt += 1 \n",
        "os.makedirs(folder_path, exist_ok=True)\n",
        "np.savetxt(os.path.join(folder_path, 'train_results.txt'), np.array(train_results), fmt='%.2f %.8f')\n",
        "np.savetxt(os.path.join(folder_path, 'test_results.txt'), np.array(test_results), fmt='%.2f %.8f')\n",
        "with open(os.path.join(folder_path, 'info.txt'), 'w+') as f:\n",
        "      f.write(model.info())\n",
        "      f.write(f'Epochs: {epochs}\\n')\n",
        "      f.write(f'loss function: {loss_fn}\\n')\n",
        "      f.write(f'optimizer: {optimizer}\\n')\n",
        "      f.write(f'batch size: {batch_size}\\n')\n",
        "      f.write(f'train data size: {train_num}\\n')\n",
        "torch.save(model, os.path.join(folder_path, 'model.pt'))\n"
      ]
    }
  ],
  "metadata": {
    "colab": {
      "provenance": []
    },
    "kernelspec": {
      "display_name": "Python 3",
      "name": "python3"
    },
    "language_info": {
      "codemirror_mode": {
        "name": "ipython",
        "version": 3
      },
      "file_extension": ".py",
      "mimetype": "text/x-python",
      "name": "python",
      "nbconvert_exporter": "python",
      "pygments_lexer": "ipython3",
      "version": "3.11.5"
    }
  },
  "nbformat": 4,
  "nbformat_minor": 0
}
